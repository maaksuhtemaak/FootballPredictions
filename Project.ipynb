{
 "cells": [
  {
   "cell_type": "code",
   "execution_count": 8,
   "metadata": {},
   "outputs": [],
   "source": [
    "import pandas as pd\n",
    "import numpy as np\n",
    "import matplotlib.pyplot as plt\n",
    "from sklearn.neighbors import KNeighborsClassifier\n",
    "from sklearn.model_selection import train_test_split\n",
    "from sklearn.metrics import accuracy_score\n",
    "from sklearn.tree import DecisionTreeClassifier\n",
    "from sklearn.ensemble import RandomForestClassifier\n",
    "from sklearn.svm import SVC"
   ]
  },
  {
   "cell_type": "code",
   "execution_count": 46,
   "metadata": {},
   "outputs": [],
   "source": [
    "train = pd.read_csv(\"seasons-1314-1718.csv\")\n",
    "\n",
    "predict = pd.read_csv(\"season-1819_csv.csv\") \n"
   ]
  },
  {
   "cell_type": "code",
   "execution_count": 59,
   "metadata": {},
   "outputs": [
    {
     "name": "stdout",
     "output_type": "stream",
     "text": [
      "0.3192982456140351\n"
     ]
    }
   ],
   "source": [
    "train_labels = train['FTHG']\n",
    "\n",
    "predict_labels = predict['FTHG']\n",
    "\n",
    "data_dum = pd.get_dummies(train, columns = data.select_dtypes(include=['object']).columns.difference(['FTHG']))\n",
    "\n",
    "data_dum = data_dum.drop(['Div','Date','FTHG'],axis=1)\n",
    "\n",
    "data_dum = data_dum.dropna(axis='columns')\n",
    "\n",
    "X_train, X_test, y_train, y_test = train_test_split(data_dum,train_labels,test_size = 0.3, random_state = 0) \n",
    "\n",
    "model = KNeighborsClassifier(n_neighbors = 6)\n",
    "model.fit(X_train, y_train)\n",
    "acc = accuracy_score(y_test, model.predict(X_test))\n",
    "\n",
    "print(acc)\n"
   ]
  }
 ],
 "metadata": {
  "kernelspec": {
   "display_name": "Python 3",
   "language": "python",
   "name": "python3"
  },
  "language_info": {
   "codemirror_mode": {
    "name": "ipython",
    "version": 3
   },
   "file_extension": ".py",
   "mimetype": "text/x-python",
   "name": "python",
   "nbconvert_exporter": "python",
   "pygments_lexer": "ipython3",
   "version": "3.7.3"
  }
 },
 "nbformat": 4,
 "nbformat_minor": 2
}
